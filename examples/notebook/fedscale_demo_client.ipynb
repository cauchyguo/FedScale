{
 "cells": [
  {
   "cell_type": "markdown",
   "id": "466d23de",
   "metadata": {},
   "source": [
    "# Federated Learning for Image Classification using Fedscale"
   ]
  },
  {
   "cell_type": "markdown",
   "id": "17da3fe2",
   "metadata": {},
   "source": [
    "## Client Side"
   ]
  },
  {
   "cell_type": "code",
   "execution_count": null,
   "id": "40dc07a4",
   "metadata": {},
   "outputs": [],
   "source": [
    "import torch\n",
    "import logging\n",
    "import math\n",
    "from torch.autograd import Variable\n",
    "import numpy as np\n",
    "\n",
    "import sys, os\n",
    "os.chdir('/disk7T/ypguo/FedScale')\n",
    "\n",
    "import fedscale.cloud.config_parser as parser\n",
    "from fedscale.cloud.execution.torch_client import TorchClient\n",
    "from fedscale.cloud.execution.executor import Executor\n",
    "### On CPU\n",
    "parser.args.use_cuda = \"True\"\n",
    "Demo_Executor = Executor(parser.args)\n",
    "Demo_Executor.run()"
   ]
  },
  {
   "cell_type": "code",
   "execution_count": null,
   "id": "227bece8",
   "metadata": {},
   "outputs": [],
   "source": []
  }
 ],
 "metadata": {
  "kernelspec": {
   "display_name": "Python 3 (ipykernel)",
   "language": "python",
   "name": "python3"
  },
  "language_info": {
   "codemirror_mode": {
    "name": "ipython",
    "version": 3
   },
   "file_extension": ".py",
   "mimetype": "text/x-python",
   "name": "python",
   "nbconvert_exporter": "python",
   "pygments_lexer": "ipython3",
   "version": "3.7.16"
  },
  "vscode": {
   "interpreter": {
    "hash": "c61f092c149070809c0e629644d57c0873f394886eddd38a7b619aa7d2ef8d75"
   }
  }
 },
 "nbformat": 4,
 "nbformat_minor": 5
}
