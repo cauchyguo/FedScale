{
 "cells": [
  {
   "cell_type": "code",
   "execution_count": 1,
   "metadata": {},
   "outputs": [
    {
     "data": {
      "text/plain": [
       "'/disk7T/ypguo/FedScale'"
      ]
     },
     "execution_count": 1,
     "metadata": {},
     "output_type": "execute_result"
    }
   ],
   "source": [
    "%pwd"
   ]
  },
  {
   "cell_type": "code",
   "execution_count": 2,
   "metadata": {},
   "outputs": [],
   "source": [
    "import os\n",
    "os.chdir('/disk7T/ypguo/FedScale')\n",
    "%pwd\n",
    "from torch.utils.data import DataLoader\n",
    "import matplotlib.pyplot as plt\n",
    "import numpy as np\n",
    "import torch"
   ]
  },
  {
   "cell_type": "code",
   "execution_count": 3,
   "metadata": {},
   "outputs": [],
   "source": [
    "# Make sure you have downloaded and installed FedScale\n",
    "# import sys as _sys\n",
    "# print(_sys.argv[0])\n",
    "# print(_sys.argv[1:])\n",
    "import fedscale.cloud.config_parser as parser\n",
    "from fedscale.dataloaders.femnist import FEMNIST\n",
    "from fedscale.dataloaders.utils_data import get_data_transform\n",
    "from fedscale.dataloaders.divide_data import DataPartitioner\n"
   ]
  },
  {
   "cell_type": "code",
   "execution_count": 4,
   "metadata": {},
   "outputs": [],
   "source": [
    "train_transform, test_transform = get_data_transform('mnist')\n",
    "train_dataset = FEMNIST('./benchmark/dataset/data/femnist', dataset='train', transform=train_transform)\n",
    "test_dataset = FEMNIST('./benchmark/dataset/data/femnist', dataset='test', transform=test_transform)"
   ]
  },
  {
   "cell_type": "code",
   "execution_count": 5,
   "metadata": {},
   "outputs": [],
   "source": [
    "\n",
    "# Partition the dataset by the client_data_mapping file, which gives the real-world client-level heterogeneity.\n",
    "parser.args.task = 'cv'\n",
    "training_sets = DataPartitioner(data=train_dataset, args=parser.args, numOfClass=62)\n",
    "training_sets.partition_data_helper(num_clients=None, data_map_file='./benchmark/dataset/data/femnist/client_data_mapping/train.csv')\n",
    "testing_sets = DataPartitioner(data=test_dataset, args=parser.args, numOfClass=62, isTest=True)\n",
    "testing_sets.partition_data_helper(num_clients=None, data_map_file='./benchmark/dataset/data/femnist/client_data_mapping/train.csv')"
   ]
  },
  {
   "cell_type": "code",
   "execution_count": 6,
   "metadata": {},
   "outputs": [],
   "source": [
    "# Partition the dataset by the client_data_mapping file, which gives the real-world client-level heterogeneity.\n",
    "parser.args.task = 'cv'\n",
    "training_sets = DataPartitioner(data=train_dataset, args=parser.args, numOfClass=62)\n",
    "training_sets.partition_data_helper(num_clients=None, data_map_file='./benchmark/dataset/data/femnist/client_data_mapping/train.csv')\n",
    "testing_sets = DataPartitioner(data=test_dataset, args=parser.args, numOfClass=62, isTest=True)\n",
    "testing_sets.partition_data_helper(num_clients=None, data_map_file='./benchmark/dataset/data/femnist/client_data_mapping/train.csv')"
   ]
  },
  {
   "cell_type": "code",
   "execution_count": 7,
   "metadata": {},
   "outputs": [
    {
     "name": "stdout",
     "output_type": "stream",
     "text": [
      "Total number of data samples: 637877\n",
      "Total number of clients: 2800\n"
     ]
    }
   ],
   "source": [
    "print(f'Total number of data samples: {training_sets.getDataLen()}')\n",
    "print(f'Total number of clients: {training_sets.getClientLen()}')"
   ]
  },
  {
   "cell_type": "code",
   "execution_count": 8,
   "metadata": {},
   "outputs": [
    {
     "data": {
      "image/png": "[encoded data removed]",
      "text/plain": [
       "<Figure size 640x480 with 2 Axes>"
      ]
     },
     "metadata": {},
     "output_type": "display_data"
    }
   ],
   "source": [
    "fig, axs = plt.subplots(1, 2, sharey=True, tight_layout=True)\n",
    "size_dist = training_sets.getSize()['size']\n",
    "\n",
    "n_bins = 20\n",
    "axs[0].hist(size_dist, bins=n_bins)\n",
    "axs[0].set_title('Client data size distribution')\n",
    "\n",
    "label_dist = training_sets.getClientLabel()\n",
    "axs[1].hist(label_dist, bins=n_bins)\n",
    "axs[1].set_title('Client label distribution')\n",
    "\n",
    "plt.show()"
   ]
  },
  {
   "cell_type": "code",
   "execution_count": null,
   "metadata": {},
   "outputs": [],
   "source": []
  }
 ],
 "metadata": {
  "kernelspec": {
   "display_name": "Python 3 (ipykernel)",
   "language": "python",
   "name": "python3"
  },
  "language_info": {
   "codemirror_mode": {
    "name": "ipython",
    "version": 3
   },
   "file_extension": ".py",
   "mimetype": "text/x-python",
   "name": "python",
   "nbconvert_exporter": "python",
   "pygments_lexer": "ipython3",
   "version": "3.7.16"
  },
  "orig_nbformat": 4
 },
 "nbformat": 4,
 "nbformat_minor": 2
}
